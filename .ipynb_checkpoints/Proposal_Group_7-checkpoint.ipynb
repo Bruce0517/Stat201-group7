{
 "cells": [
  {
   "cell_type": "code",
   "execution_count": 3,
   "id": "1e993a5f-ae9d-44b3-a5ea-ec820cb578a7",
   "metadata": {},
   "outputs": [],
   "source": [
    "### Run this cell before continuing.\n",
    "  \n",
    "    "
   ]
  },
  {
   "cell_type": "markdown",
   "id": "7c5a4231-8d8c-40d9-bc2e-3247d3d0b6bc",
   "metadata": {},
   "source": [
    "*STAT 201 - GROUP 7*"
   ]
  },
  {
   "cell_type": "markdown",
   "id": "893401f3-7ee0-4644-9f10-dc688e648ccd",
   "metadata": {},
   "source": [
    "# (Title)"
   ]
  },
  {
   "cell_type": "markdown",
   "id": "089bcc6a-e345-41b3-8521-ca8583d030c4",
   "metadata": {},
   "source": []
  },
  {
   "cell_type": "markdown",
   "id": "38fcf1f8-a446-4eb5-8861-d680a59b85e4",
   "metadata": {},
   "source": [
    "# Introduction"
   ]
  },
  {
   "cell_type": "markdown",
   "id": "a43898c7-8984-4360-8267-dc06c3a62cba",
   "metadata": {},
   "source": [
    "### Background"
   ]
  },
  {
   "cell_type": "markdown",
   "id": "38315bcc-0cab-4886-a7c5-49a6faef423d",
   "metadata": {},
   "source": []
  },
  {
   "cell_type": "markdown",
   "id": "c37dd116-4637-448f-96c1-efaf1eccd191",
   "metadata": {},
   "source": [
    "### Question"
   ]
  },
  {
   "cell_type": "markdown",
   "id": "45c65652-8480-4665-954a-f084f832eeeb",
   "metadata": {},
   "source": []
  },
  {
   "cell_type": "markdown",
   "id": "08773d17-f394-4935-af7e-d5a17c701179",
   "metadata": {},
   "source": [
    "# Preliminary Results"
   ]
  },
  {
   "cell_type": "code",
   "execution_count": null,
   "id": "2ff7e528-49b4-4c49-9049-e3593bf5d6b2",
   "metadata": {},
   "outputs": [],
   "source": []
  },
  {
   "cell_type": "markdown",
   "id": "e8a8ab76-2467-48f2-a406-4fc9e7ccf228",
   "metadata": {},
   "source": [
    "\n",
    "    Demonstrate that the dataset can be read from the web into R.\n",
    "    Clean and wrangle your data into a tidy format.\n",
    "    Plot the relevant raw data, tailoring your plot in a way that addresses your question.\n",
    "    Compute estimates of the parameter you identified across your groups. Present this in a table. If relevant, include these estimates in your plot.\n"
   ]
  },
  {
   "cell_type": "markdown",
   "id": "809db5b4-6207-4094-98ad-017c4b8fb7a4",
   "metadata": {},
   "source": [
    "# Methods: Plan"
   ]
  },
  {
   "cell_type": "markdown",
   "id": "69596664-0543-4957-adfb-ac69e367346f",
   "metadata": {},
   "source": [
    "\n",
    "    What do you expect to find?\n",
    "    What impact could such findings have?\n",
    "    What future questions could this lead to?\n"
   ]
  },
  {
   "cell_type": "markdown",
   "id": "cb54c190-6ce2-407b-a6cd-3dc374b53cb1",
   "metadata": {},
   "source": [
    "# References"
   ]
  },
  {
   "cell_type": "markdown",
   "id": "c5f4eaee-f152-4189-9763-8abdf4e019e5",
   "metadata": {},
   "source": [
    "At least two citations of literature relevant to the project. The citation format is your choice – just be consistent. Make sure to cite the source of your data as well."
   ]
  },
  {
   "cell_type": "markdown",
   "id": "c71414ff-c9fe-436f-87ee-a95ea65379eb",
   "metadata": {},
   "source": [
    "- 1\n",
    "- 2\n"
   ]
  },
  {
   "cell_type": "code",
   "execution_count": null,
   "id": "0e59b0f8-0dea-4ee4-9ebd-94cee3c87900",
   "metadata": {},
   "outputs": [],
   "source": []
  }
 ],
 "metadata": {
  "kernelspec": {
   "display_name": "R",
   "language": "R",
   "name": "ir"
  },
  "language_info": {
   "codemirror_mode": "r",
   "file_extension": ".r",
   "mimetype": "text/x-r-source",
   "name": "R",
   "pygments_lexer": "r",
   "version": "4.1.3"
  }
 },
 "nbformat": 4,
 "nbformat_minor": 5
}
