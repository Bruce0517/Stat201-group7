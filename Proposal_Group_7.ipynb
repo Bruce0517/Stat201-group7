{
 "cells": [
  {
   "cell_type": "code",
   "execution_count": 3,
   "id": "1e993a5f-ae9d-44b3-a5ea-ec820cb578a7",
   "metadata": {},
   "outputs": [],
   "source": [
    "### Run this cell before continuing.\n",
    "  \n",
    "    "
   ]
  },
  {
   "cell_type": "markdown",
   "id": "7c5a4231-8d8c-40d9-bc2e-3247d3d0b6bc",
   "metadata": {},
   "source": [
    "*STAT 201 - GROUP 7*"
   ]
  },
  {
   "cell_type": "markdown",
   "id": "893401f3-7ee0-4644-9f10-dc688e648ccd",
   "metadata": {},
   "source": [
    "# (Title)"
   ]
  },
  {
   "cell_type": "markdown",
   "id": "089bcc6a-e345-41b3-8521-ca8583d030c4",
   "metadata": {},
   "source": []
  },
  {
   "cell_type": "markdown",
   "id": "38fcf1f8-a446-4eb5-8861-d680a59b85e4",
   "metadata": {},
   "source": [
    "# Introduction"
   ]
  },
  {
   "cell_type": "markdown",
   "id": "a43898c7-8984-4360-8267-dc06c3a62cba",
   "metadata": {},
   "source": [
    "### Background"
   ]
  },
  {
   "cell_type": "markdown",
   "id": "38315bcc-0cab-4886-a7c5-49a6faef423d",
   "metadata": {},
   "source": []
  },
  {
   "cell_type": "markdown",
   "id": "c37dd116-4637-448f-96c1-efaf1eccd191",
   "metadata": {},
   "source": [
    "### Question"
   ]
  },
  {
   "cell_type": "markdown",
   "id": "45c65652-8480-4665-954a-f084f832eeeb",
   "metadata": {},
   "source": []
  },
  {
   "cell_type": "markdown",
   "id": "08773d17-f394-4935-af7e-d5a17c701179",
   "metadata": {},
   "source": [
    "# Preliminary Results"
   ]
  },
  {
   "cell_type": "markdown",
   "id": "a320ac60-9fd9-4469-ac3b-b6f81d7dce3a",
   "metadata": {},
   "source": [
    "##### Read, Clean, & Wrangle"
   ]
  },
  {
   "cell_type": "markdown",
   "id": "7a34611a-ee08-4d40-b4a8-49ff26f606ee",
   "metadata": {},
   "source": []
  },
  {
   "cell_type": "markdown",
   "id": "67416ecc-8cbe-40e3-a00a-a5afede4b098",
   "metadata": {},
   "source": [
    "##### Plot(s)"
   ]
  },
  {
   "cell_type": "markdown",
   "id": "8bf8edf9-364b-4df2-95a0-79f4bb42a79d",
   "metadata": {},
   "source": []
  },
  {
   "cell_type": "markdown",
   "id": "cb526276-90e2-436f-b44f-2f03db880ad6",
   "metadata": {},
   "source": [
    "##### Table of Estimates"
   ]
  },
  {
   "cell_type": "markdown",
   "id": "29222e47-4d86-4b77-af1d-68454a00b475",
   "metadata": {},
   "source": []
  },
  {
   "cell_type": "markdown",
   "id": "809db5b4-6207-4094-98ad-017c4b8fb7a4",
   "metadata": {},
   "source": [
    "# Methods: Plan"
   ]
  },
  {
   "cell_type": "markdown",
   "id": "69596664-0543-4957-adfb-ac69e367346f",
   "metadata": {},
   "source": [
    "(The previous sections will carry over to your final report (you’ll be allowed to improve them based on feedback you get). Begin this Methods section with a brief description of “the good things” about this report – specifically, in what ways is this report trustworthy?\n",
    "\n",
    "Continue by explaining why the plot(s) and estimates that you produced are not enough to give to a stakeholder, and what you should provide in addition to address this gap. Make sure your plans include at least one hypothesis test and one confidence interval. If possible, compare both the bootstrapping and asymptotics methods.)\n",
    "\n"
   ]
  },
  {
   "cell_type": "markdown",
   "id": "642c171d-a249-4560-8952-cbff3c1cdb1c",
   "metadata": {},
   "source": []
  },
  {
   "cell_type": "markdown",
   "id": "097c0f0c-8297-489b-99ed-ddabd9509dec",
   "metadata": {},
   "source": [
    "##### What do you expect to find?"
   ]
  },
  {
   "cell_type": "markdown",
   "id": "a9dffa30-f350-49c1-9e1c-be924fe4fabf",
   "metadata": {},
   "source": []
  },
  {
   "cell_type": "markdown",
   "id": "20319489-b941-48c6-8cb3-f10f518de994",
   "metadata": {},
   "source": [
    " ##### What impact could such findings have?"
   ]
  },
  {
   "cell_type": "markdown",
   "id": "53678efb-8e15-4a3b-828c-3384f94d200c",
   "metadata": {},
   "source": []
  },
  {
   "cell_type": "markdown",
   "id": "e3841ac0-2146-4c8d-a6ac-b4818667fe4f",
   "metadata": {},
   "source": [
    "##### What future questions could this lead to?"
   ]
  },
  {
   "cell_type": "markdown",
   "id": "bb6d173d-e6f1-42a5-9a3c-9be53b663c27",
   "metadata": {},
   "source": []
  },
  {
   "cell_type": "markdown",
   "id": "cb54c190-6ce2-407b-a6cd-3dc374b53cb1",
   "metadata": {},
   "source": [
    "# References"
   ]
  },
  {
   "cell_type": "markdown",
   "id": "c5f4eaee-f152-4189-9763-8abdf4e019e5",
   "metadata": {},
   "source": [
    "At least two citations of literature relevant to the project. The citation format is your choice – just be consistent. Make sure to cite the source of your data as well."
   ]
  },
  {
   "cell_type": "markdown",
   "id": "c71414ff-c9fe-436f-87ee-a95ea65379eb",
   "metadata": {},
   "source": [
    "- 1\n",
    "- 2\n"
   ]
  },
  {
   "cell_type": "code",
   "execution_count": null,
   "id": "0e59b0f8-0dea-4ee4-9ebd-94cee3c87900",
   "metadata": {},
   "outputs": [],
   "source": []
  }
 ],
 "metadata": {
  "kernelspec": {
   "display_name": "R",
   "language": "R",
   "name": "ir"
  },
  "language_info": {
   "codemirror_mode": "r",
   "file_extension": ".r",
   "mimetype": "text/x-r-source",
   "name": "R",
   "pygments_lexer": "r",
   "version": "4.1.3"
  }
 },
 "nbformat": 4,
 "nbformat_minor": 5
}
