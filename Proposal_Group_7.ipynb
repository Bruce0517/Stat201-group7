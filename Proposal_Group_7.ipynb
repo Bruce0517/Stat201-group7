{
 "cells": [
  {
   "cell_type": "code",
   "execution_count": 1,
   "id": "1e993a5f-ae9d-44b3-a5ea-ec820cb578a7",
   "metadata": {},
   "outputs": [
    {
     "name": "stderr",
     "output_type": "stream",
     "text": [
      "\n",
      "Attaching package: ‘dplyr’\n",
      "\n",
      "\n",
      "The following objects are masked from ‘package:stats’:\n",
      "\n",
      "    filter, lag\n",
      "\n",
      "\n",
      "The following objects are masked from ‘package:base’:\n",
      "\n",
      "    intersect, setdiff, setequal, union\n",
      "\n",
      "\n",
      "\n",
      "Attaching package: ‘gridExtra’\n",
      "\n",
      "\n",
      "The following object is masked from ‘package:dplyr’:\n",
      "\n",
      "    combine\n",
      "\n",
      "\n",
      "Warning message in system(\"timedatectl\", intern = TRUE):\n",
      "“running command 'timedatectl' had status 1”\n",
      "── \u001b[1mAttaching packages\u001b[22m ─────────────────────────────────────── tidyverse 1.3.2 ──\n",
      "\u001b[32m✔\u001b[39m \u001b[34mggplot2\u001b[39m 3.4.0     \u001b[32m✔\u001b[39m \u001b[34mpurrr  \u001b[39m 1.0.0\n",
      "\u001b[32m✔\u001b[39m \u001b[34mtibble \u001b[39m 3.1.8     \u001b[32m✔\u001b[39m \u001b[34mstringr\u001b[39m 1.5.0\n",
      "\u001b[32m✔\u001b[39m \u001b[34mtidyr  \u001b[39m 1.2.1     \u001b[32m✔\u001b[39m \u001b[34mforcats\u001b[39m 0.5.2\n",
      "\u001b[32m✔\u001b[39m \u001b[34mreadr  \u001b[39m 2.1.3     \n",
      "── \u001b[1mConflicts\u001b[22m ────────────────────────────────────────── tidyverse_conflicts() ──\n",
      "\u001b[31m✖\u001b[39m \u001b[34mgridExtra\u001b[39m::\u001b[32mcombine()\u001b[39m masks \u001b[34mdplyr\u001b[39m::combine()\n",
      "\u001b[31m✖\u001b[39m \u001b[34mdplyr\u001b[39m::\u001b[32mfilter()\u001b[39m      masks \u001b[34mstats\u001b[39m::filter()\n",
      "\u001b[31m✖\u001b[39m \u001b[34mdplyr\u001b[39m::\u001b[32mlag()\u001b[39m         masks \u001b[34mstats\u001b[39m::lag()\n"
     ]
    },
    {
     "ename": "ERROR",
     "evalue": "Error in library(infer): there is no package called ‘infer’\n",
     "output_type": "error",
     "traceback": [
      "Error in library(infer): there is no package called ‘infer’\nTraceback:\n",
      "1. library(infer)"
     ]
    }
   ],
   "source": [
    "### Run this cell before continuing.\n",
    "#library(cowplot)\n",
    "library(dplyr)\n",
    "library(gridExtra)\n",
    "library(tidyverse)\n",
    "library(repr)\n",
    "library(infer)\n",
    "library(repr)\n",
    "library(datateachr)\n",
    "library(digest)\n",
    "library(lubridate)\n",
    "library(taxyvr)\n",
    "library(broom)\n",
    "library(testthat)\n",
    "    "
   ]
  },
  {
   "cell_type": "markdown",
   "id": "7c5a4231-8d8c-40d9-bc2e-3247d3d0b6bc",
   "metadata": {},
   "source": [
    "*STAT 201 - GROUP 7*"
   ]
  },
  {
   "cell_type": "markdown",
   "id": "893401f3-7ee0-4644-9f10-dc688e648ccd",
   "metadata": {},
   "source": [
    "# (Title)"
   ]
  },
  {
   "cell_type": "markdown",
   "id": "089bcc6a-e345-41b3-8521-ca8583d030c4",
   "metadata": {},
   "source": []
  },
  {
   "cell_type": "markdown",
   "id": "38fcf1f8-a446-4eb5-8861-d680a59b85e4",
   "metadata": {},
   "source": [
    "# Introduction"
   ]
  },
  {
   "cell_type": "markdown",
   "id": "a43898c7-8984-4360-8267-dc06c3a62cba",
   "metadata": {},
   "source": [
    "### Background"
   ]
  },
  {
   "cell_type": "markdown",
   "id": "38315bcc-0cab-4886-a7c5-49a6faef423d",
   "metadata": {},
   "source": []
  },
  {
   "cell_type": "markdown",
   "id": "c37dd116-4637-448f-96c1-efaf1eccd191",
   "metadata": {},
   "source": [
    "### Question"
   ]
  },
  {
   "cell_type": "markdown",
   "id": "45c65652-8480-4665-954a-f084f832eeeb",
   "metadata": {},
   "source": []
  },
  {
   "cell_type": "markdown",
   "id": "08773d17-f394-4935-af7e-d5a17c701179",
   "metadata": {},
   "source": [
    "# Preliminary Results"
   ]
  },
  {
   "cell_type": "markdown",
   "id": "a320ac60-9fd9-4469-ac3b-b6f81d7dce3a",
   "metadata": {},
   "source": [
    "##### Read, Clean, & Wrangle"
   ]
  },
  {
   "cell_type": "markdown",
   "id": "7a34611a-ee08-4d40-b4a8-49ff26f606ee",
   "metadata": {},
   "source": []
  },
  {
   "cell_type": "code",
   "execution_count": 16,
   "id": "fb05e264-9b3b-4f7e-b3b3-fb07270d9658",
   "metadata": {},
   "outputs": [
    {
     "name": "stderr",
     "output_type": "stream",
     "text": [
      "\u001b[1mRows: \u001b[22m\u001b[34m14347\u001b[39m \u001b[1mColumns: \u001b[22m\u001b[34m10\u001b[39m\n",
      "\u001b[36m──\u001b[39m \u001b[1mColumn specification\u001b[22m \u001b[36m────────────────────────────────────────────────────────\u001b[39m\n",
      "\u001b[1mDelimiter:\u001b[22m \",\"\n",
      "\u001b[31mchr\u001b[39m (3): TYPE, HUNDRED_BLOCK, NEIGHBOURHOOD\n",
      "\u001b[32mdbl\u001b[39m (7): YEAR, MONTH, DAY, HOUR, MINUTE, X, Y\n",
      "\n",
      "\u001b[36mℹ\u001b[39m Use `spec()` to retrieve the full column specification for this data.\n",
      "\u001b[36mℹ\u001b[39m Specify the column types or set `show_col_types = FALSE` to quiet this message.\n",
      "\u001b[1mRows: \u001b[22m\u001b[34m15944\u001b[39m \u001b[1mColumns: \u001b[22m\u001b[34m10\u001b[39m\n",
      "\u001b[36m──\u001b[39m \u001b[1mColumn specification\u001b[22m \u001b[36m────────────────────────────────────────────────────────\u001b[39m\n",
      "\u001b[1mDelimiter:\u001b[22m \",\"\n",
      "\u001b[31mchr\u001b[39m (3): TYPE, HUNDRED_BLOCK, NEIGHBOURHOOD\n",
      "\u001b[32mdbl\u001b[39m (7): YEAR, MONTH, DAY, HOUR, MINUTE, X, Y\n",
      "\n",
      "\u001b[36mℹ\u001b[39m Use `spec()` to retrieve the full column specification for this data.\n",
      "\u001b[36mℹ\u001b[39m Specify the column types or set `show_col_types = FALSE` to quiet this message.\n",
      "\u001b[1mRows: \u001b[22m\u001b[34m10339\u001b[39m \u001b[1mColumns: \u001b[22m\u001b[34m10\u001b[39m\n",
      "\u001b[36m──\u001b[39m \u001b[1mColumn specification\u001b[22m \u001b[36m────────────────────────────────────────────────────────\u001b[39m\n",
      "\u001b[1mDelimiter:\u001b[22m \",\"\n",
      "\u001b[31mchr\u001b[39m (3): TYPE, HUNDRED_BLOCK, NEIGHBOURHOOD\n",
      "\u001b[32mdbl\u001b[39m (7): YEAR, MONTH, DAY, HOUR, MINUTE, X, Y\n",
      "\n",
      "\u001b[36mℹ\u001b[39m Use `spec()` to retrieve the full column specification for this data.\n",
      "\u001b[36mℹ\u001b[39m Specify the column types or set `show_col_types = FALSE` to quiet this message.\n",
      "\u001b[1mRows: \u001b[22m\u001b[34m9144\u001b[39m \u001b[1mColumns: \u001b[22m\u001b[34m10\u001b[39m\n",
      "\u001b[36m──\u001b[39m \u001b[1mColumn specification\u001b[22m \u001b[36m────────────────────────────────────────────────────────\u001b[39m\n",
      "\u001b[1mDelimiter:\u001b[22m \",\"\n",
      "\u001b[31mchr\u001b[39m (3): TYPE, HUNDRED_BLOCK, NEIGHBOURHOOD\n",
      "\u001b[32mdbl\u001b[39m (7): YEAR, MONTH, DAY, HOUR, MINUTE, X, Y\n",
      "\n",
      "\u001b[36mℹ\u001b[39m Use `spec()` to retrieve the full column specification for this data.\n",
      "\u001b[36mℹ\u001b[39m Specify the column types or set `show_col_types = FALSE` to quiet this message.\n",
      "\u001b[1mRows: \u001b[22m\u001b[34m10603\u001b[39m \u001b[1mColumns: \u001b[22m\u001b[34m10\u001b[39m\n",
      "\u001b[36m──\u001b[39m \u001b[1mColumn specification\u001b[22m \u001b[36m────────────────────────────────────────────────────────\u001b[39m\n",
      "\u001b[1mDelimiter:\u001b[22m \",\"\n",
      "\u001b[31mchr\u001b[39m (3): TYPE, HUNDRED_BLOCK, NEIGHBOURHOOD\n",
      "\u001b[32mdbl\u001b[39m (7): YEAR, MONTH, DAY, HOUR, MINUTE, X, Y\n",
      "\n",
      "\u001b[36mℹ\u001b[39m Use `spec()` to retrieve the full column specification for this data.\n",
      "\u001b[36mℹ\u001b[39m Specify the column types or set `show_col_types = FALSE` to quiet this message.\n",
      "\u001b[1mRows: \u001b[22m\u001b[34m2220\u001b[39m \u001b[1mColumns: \u001b[22m\u001b[34m10\u001b[39m\n",
      "\u001b[36m──\u001b[39m \u001b[1mColumn specification\u001b[22m \u001b[36m────────────────────────────────────────────────────────\u001b[39m\n",
      "\u001b[1mDelimiter:\u001b[22m \",\"\n",
      "\u001b[31mchr\u001b[39m (3): TYPE, HUNDRED_BLOCK, NEIGHBOURHOOD\n",
      "\u001b[32mdbl\u001b[39m (7): YEAR, MONTH, DAY, HOUR, MINUTE, X, Y\n",
      "\n",
      "\u001b[36mℹ\u001b[39m Use `spec()` to retrieve the full column specification for this data.\n",
      "\u001b[36mℹ\u001b[39m Specify the column types or set `show_col_types = FALSE` to quiet this message.\n",
      "\u001b[1mRows: \u001b[22m\u001b[34m2324\u001b[39m \u001b[1mColumns: \u001b[22m\u001b[34m10\u001b[39m\n",
      "\u001b[36m──\u001b[39m \u001b[1mColumn specification\u001b[22m \u001b[36m────────────────────────────────────────────────────────\u001b[39m\n",
      "\u001b[1mDelimiter:\u001b[22m \",\"\n",
      "\u001b[31mchr\u001b[39m (3): TYPE, HUNDRED_BLOCK, NEIGHBOURHOOD\n",
      "\u001b[32mdbl\u001b[39m (7): YEAR, MONTH, DAY, HOUR, MINUTE, X, Y\n",
      "\n",
      "\u001b[36mℹ\u001b[39m Use `spec()` to retrieve the full column specification for this data.\n",
      "\u001b[36mℹ\u001b[39m Specify the column types or set `show_col_types = FALSE` to quiet this message.\n",
      "\u001b[1mRows: \u001b[22m\u001b[34m1924\u001b[39m \u001b[1mColumns: \u001b[22m\u001b[34m10\u001b[39m\n",
      "\u001b[36m──\u001b[39m \u001b[1mColumn specification\u001b[22m \u001b[36m────────────────────────────────────────────────────────\u001b[39m\n",
      "\u001b[1mDelimiter:\u001b[22m \",\"\n",
      "\u001b[31mchr\u001b[39m (3): TYPE, HUNDRED_BLOCK, NEIGHBOURHOOD\n",
      "\u001b[32mdbl\u001b[39m (7): YEAR, MONTH, DAY, HOUR, MINUTE, X, Y\n",
      "\n",
      "\u001b[36mℹ\u001b[39m Use `spec()` to retrieve the full column specification for this data.\n",
      "\u001b[36mℹ\u001b[39m Specify the column types or set `show_col_types = FALSE` to quiet this message.\n",
      "\u001b[1mRows: \u001b[22m\u001b[34m1588\u001b[39m \u001b[1mColumns: \u001b[22m\u001b[34m10\u001b[39m\n",
      "\u001b[36m──\u001b[39m \u001b[1mColumn specification\u001b[22m \u001b[36m────────────────────────────────────────────────────────\u001b[39m\n",
      "\u001b[1mDelimiter:\u001b[22m \",\"\n",
      "\u001b[31mchr\u001b[39m (3): TYPE, HUNDRED_BLOCK, NEIGHBOURHOOD\n",
      "\u001b[32mdbl\u001b[39m (7): YEAR, MONTH, DAY, HOUR, MINUTE, X, Y\n",
      "\n",
      "\u001b[36mℹ\u001b[39m Use `spec()` to retrieve the full column specification for this data.\n",
      "\u001b[36mℹ\u001b[39m Specify the column types or set `show_col_types = FALSE` to quiet this message.\n",
      "\u001b[1mRows: \u001b[22m\u001b[34m1527\u001b[39m \u001b[1mColumns: \u001b[22m\u001b[34m10\u001b[39m\n",
      "\u001b[36m──\u001b[39m \u001b[1mColumn specification\u001b[22m \u001b[36m────────────────────────────────────────────────────────\u001b[39m\n",
      "\u001b[1mDelimiter:\u001b[22m \",\"\n",
      "\u001b[31mchr\u001b[39m (3): TYPE, HUNDRED_BLOCK, NEIGHBOURHOOD\n",
      "\u001b[32mdbl\u001b[39m (7): YEAR, MONTH, DAY, HOUR, MINUTE, X, Y\n",
      "\n",
      "\u001b[36mℹ\u001b[39m Use `spec()` to retrieve the full column specification for this data.\n",
      "\u001b[36mℹ\u001b[39m Specify the column types or set `show_col_types = FALSE` to quiet this message.\n",
      "\u001b[1mRows: \u001b[22m\u001b[34m3088\u001b[39m \u001b[1mColumns: \u001b[22m\u001b[34m10\u001b[39m\n",
      "\u001b[36m──\u001b[39m \u001b[1mColumn specification\u001b[22m \u001b[36m────────────────────────────────────────────────────────\u001b[39m\n",
      "\u001b[1mDelimiter:\u001b[22m \",\"\n",
      "\u001b[31mchr\u001b[39m (3): TYPE, HUNDRED_BLOCK, NEIGHBOURHOOD\n",
      "\u001b[32mdbl\u001b[39m (7): YEAR, MONTH, DAY, HOUR, MINUTE, X, Y\n",
      "\n",
      "\u001b[36mℹ\u001b[39m Use `spec()` to retrieve the full column specification for this data.\n",
      "\u001b[36mℹ\u001b[39m Specify the column types or set `show_col_types = FALSE` to quiet this message.\n",
      "\u001b[1mRows: \u001b[22m\u001b[34m3398\u001b[39m \u001b[1mColumns: \u001b[22m\u001b[34m10\u001b[39m\n",
      "\u001b[36m──\u001b[39m \u001b[1mColumn specification\u001b[22m \u001b[36m────────────────────────────────────────────────────────\u001b[39m\n",
      "\u001b[1mDelimiter:\u001b[22m \",\"\n",
      "\u001b[31mchr\u001b[39m (3): TYPE, HUNDRED_BLOCK, NEIGHBOURHOOD\n",
      "\u001b[32mdbl\u001b[39m (7): YEAR, MONTH, DAY, HOUR, MINUTE, X, Y\n",
      "\n",
      "\u001b[36mℹ\u001b[39m Use `spec()` to retrieve the full column specification for this data.\n",
      "\u001b[36mℹ\u001b[39m Specify the column types or set `show_col_types = FALSE` to quiet this message.\n",
      "\u001b[1mRows: \u001b[22m\u001b[34m3102\u001b[39m \u001b[1mColumns: \u001b[22m\u001b[34m10\u001b[39m\n",
      "\u001b[36m──\u001b[39m \u001b[1mColumn specification\u001b[22m \u001b[36m────────────────────────────────────────────────────────\u001b[39m\n",
      "\u001b[1mDelimiter:\u001b[22m \",\"\n",
      "\u001b[31mchr\u001b[39m (3): TYPE, HUNDRED_BLOCK, NEIGHBOURHOOD\n",
      "\u001b[32mdbl\u001b[39m (7): YEAR, MONTH, DAY, HOUR, MINUTE, X, Y\n",
      "\n",
      "\u001b[36mℹ\u001b[39m Use `spec()` to retrieve the full column specification for this data.\n",
      "\u001b[36mℹ\u001b[39m Specify the column types or set `show_col_types = FALSE` to quiet this message.\n",
      "\u001b[1mRows: \u001b[22m\u001b[34m2369\u001b[39m \u001b[1mColumns: \u001b[22m\u001b[34m10\u001b[39m\n",
      "\u001b[36m──\u001b[39m \u001b[1mColumn specification\u001b[22m \u001b[36m────────────────────────────────────────────────────────\u001b[39m\n",
      "\u001b[1mDelimiter:\u001b[22m \",\"\n",
      "\u001b[31mchr\u001b[39m (3): TYPE, HUNDRED_BLOCK, NEIGHBOURHOOD\n",
      "\u001b[32mdbl\u001b[39m (7): YEAR, MONTH, DAY, HOUR, MINUTE, X, Y\n",
      "\n",
      "\u001b[36mℹ\u001b[39m Use `spec()` to retrieve the full column specification for this data.\n",
      "\u001b[36mℹ\u001b[39m Specify the column types or set `show_col_types = FALSE` to quiet this message.\n",
      "\u001b[1mRows: \u001b[22m\u001b[34m2619\u001b[39m \u001b[1mColumns: \u001b[22m\u001b[34m10\u001b[39m\n",
      "\u001b[36m──\u001b[39m \u001b[1mColumn specification\u001b[22m \u001b[36m────────────────────────────────────────────────────────\u001b[39m\n",
      "\u001b[1mDelimiter:\u001b[22m \",\"\n",
      "\u001b[31mchr\u001b[39m (3): TYPE, HUNDRED_BLOCK, NEIGHBOURHOOD\n",
      "\u001b[32mdbl\u001b[39m (7): YEAR, MONTH, DAY, HOUR, MINUTE, X, Y\n",
      "\n",
      "\u001b[36mℹ\u001b[39m Use `spec()` to retrieve the full column specification for this data.\n",
      "\u001b[36mℹ\u001b[39m Specify the column types or set `show_col_types = FALSE` to quiet this message.\n",
      "\u001b[1mRows: \u001b[22m\u001b[34m3876\u001b[39m \u001b[1mColumns: \u001b[22m\u001b[34m10\u001b[39m\n",
      "\u001b[36m──\u001b[39m \u001b[1mColumn specification\u001b[22m \u001b[36m────────────────────────────────────────────────────────\u001b[39m\n",
      "\u001b[1mDelimiter:\u001b[22m \",\"\n",
      "\u001b[31mchr\u001b[39m (3): TYPE, HUNDRED_BLOCK, NEIGHBOURHOOD\n",
      "\u001b[32mdbl\u001b[39m (7): YEAR, MONTH, DAY, HOUR, MINUTE, X, Y\n",
      "\n",
      "\u001b[36mℹ\u001b[39m Use `spec()` to retrieve the full column specification for this data.\n",
      "\u001b[36mℹ\u001b[39m Specify the column types or set `show_col_types = FALSE` to quiet this message.\n",
      "\u001b[1mRows: \u001b[22m\u001b[34m4230\u001b[39m \u001b[1mColumns: \u001b[22m\u001b[34m10\u001b[39m\n",
      "\u001b[36m──\u001b[39m \u001b[1mColumn specification\u001b[22m \u001b[36m────────────────────────────────────────────────────────\u001b[39m\n",
      "\u001b[1mDelimiter:\u001b[22m \",\"\n",
      "\u001b[31mchr\u001b[39m (3): TYPE, HUNDRED_BLOCK, NEIGHBOURHOOD\n",
      "\u001b[32mdbl\u001b[39m (7): YEAR, MONTH, DAY, HOUR, MINUTE, X, Y\n",
      "\n",
      "\u001b[36mℹ\u001b[39m Use `spec()` to retrieve the full column specification for this data.\n",
      "\u001b[36mℹ\u001b[39m Specify the column types or set `show_col_types = FALSE` to quiet this message.\n",
      "\u001b[1mRows: \u001b[22m\u001b[34m3116\u001b[39m \u001b[1mColumns: \u001b[22m\u001b[34m10\u001b[39m\n",
      "\u001b[36m──\u001b[39m \u001b[1mColumn specification\u001b[22m \u001b[36m────────────────────────────────────────────────────────\u001b[39m\n",
      "\u001b[1mDelimiter:\u001b[22m \",\"\n",
      "\u001b[31mchr\u001b[39m (3): TYPE, HUNDRED_BLOCK, NEIGHBOURHOOD\n",
      "\u001b[32mdbl\u001b[39m (7): YEAR, MONTH, DAY, HOUR, MINUTE, X, Y\n",
      "\n",
      "\u001b[36mℹ\u001b[39m Use `spec()` to retrieve the full column specification for this data.\n",
      "\u001b[36mℹ\u001b[39m Specify the column types or set `show_col_types = FALSE` to quiet this message.\n",
      "\u001b[1mRows: \u001b[22m\u001b[34m2835\u001b[39m \u001b[1mColumns: \u001b[22m\u001b[34m10\u001b[39m\n",
      "\u001b[36m──\u001b[39m \u001b[1mColumn specification\u001b[22m \u001b[36m────────────────────────────────────────────────────────\u001b[39m\n",
      "\u001b[1mDelimiter:\u001b[22m \",\"\n",
      "\u001b[31mchr\u001b[39m (3): TYPE, HUNDRED_BLOCK, NEIGHBOURHOOD\n",
      "\u001b[32mdbl\u001b[39m (7): YEAR, MONTH, DAY, HOUR, MINUTE, X, Y\n",
      "\n",
      "\u001b[36mℹ\u001b[39m Use `spec()` to retrieve the full column specification for this data.\n",
      "\u001b[36mℹ\u001b[39m Specify the column types or set `show_col_types = FALSE` to quiet this message.\n",
      "\u001b[1mRows: \u001b[22m\u001b[34m2875\u001b[39m \u001b[1mColumns: \u001b[22m\u001b[34m10\u001b[39m\n",
      "\u001b[36m──\u001b[39m \u001b[1mColumn specification\u001b[22m \u001b[36m────────────────────────────────────────────────────────\u001b[39m\n",
      "\u001b[1mDelimiter:\u001b[22m \",\"\n",
      "\u001b[31mchr\u001b[39m (3): TYPE, HUNDRED_BLOCK, NEIGHBOURHOOD\n",
      "\u001b[32mdbl\u001b[39m (7): YEAR, MONTH, DAY, HOUR, MINUTE, X, Y\n",
      "\n",
      "\u001b[36mℹ\u001b[39m Use `spec()` to retrieve the full column specification for this data.\n",
      "\u001b[36mℹ\u001b[39m Specify the column types or set `show_col_types = FALSE` to quiet this message.\n"
     ]
    }
   ],
   "source": [
    "#Read and Combine CSVS\n",
    "crime <- list.files(path = \"data/\", \n",
    "                       pattern = \"*.csv\", full.names = TRUE) %>% \n",
    "  lapply(read_csv) %>%                            \n",
    "  bind_rows                                        "
   ]
  },
  {
   "cell_type": "code",
   "execution_count": 12,
   "id": "2cf11d2d-6427-4fb0-8001-523c82665181",
   "metadata": {},
   "outputs": [
    {
     "data": {
      "text/html": [],
      "text/latex": [],
      "text/markdown": [],
      "text/plain": [
       "<0 x 0 matrix>"
      ]
     },
     "metadata": {},
     "output_type": "display_data"
    }
   ],
   "source": []
  },
  {
   "cell_type": "markdown",
   "id": "67416ecc-8cbe-40e3-a00a-a5afede4b098",
   "metadata": {},
   "source": [
    "##### Plot(s)"
   ]
  },
  {
   "cell_type": "markdown",
   "id": "8bf8edf9-364b-4df2-95a0-79f4bb42a79d",
   "metadata": {},
   "source": []
  },
  {
   "cell_type": "markdown",
   "id": "cb526276-90e2-436f-b44f-2f03db880ad6",
   "metadata": {},
   "source": [
    "##### Table of Estimates"
   ]
  },
  {
   "cell_type": "markdown",
   "id": "29222e47-4d86-4b77-af1d-68454a00b475",
   "metadata": {},
   "source": []
  },
  {
   "cell_type": "markdown",
   "id": "809db5b4-6207-4094-98ad-017c4b8fb7a4",
   "metadata": {},
   "source": [
    "# Methods: Plan"
   ]
  },
  {
   "cell_type": "markdown",
   "id": "69596664-0543-4957-adfb-ac69e367346f",
   "metadata": {},
   "source": [
    "(The previous sections will carry over to your final report (you’ll be allowed to improve them based on feedback you get). Begin this Methods section with a brief description of “the good things” about this report – specifically, in what ways is this report trustworthy?\n",
    "\n",
    "Continue by explaining why the plot(s) and estimates that you produced are not enough to give to a stakeholder, and what you should provide in addition to address this gap. Make sure your plans include at least one hypothesis test and one confidence interval. If possible, compare both the bootstrapping and asymptotics methods.)\n",
    "\n"
   ]
  },
  {
   "cell_type": "markdown",
   "id": "642c171d-a249-4560-8952-cbff3c1cdb1c",
   "metadata": {},
   "source": []
  },
  {
   "cell_type": "markdown",
   "id": "097c0f0c-8297-489b-99ed-ddabd9509dec",
   "metadata": {},
   "source": [
    "##### What do you expect to find?"
   ]
  },
  {
   "cell_type": "markdown",
   "id": "a9dffa30-f350-49c1-9e1c-be924fe4fabf",
   "metadata": {},
   "source": []
  },
  {
   "cell_type": "markdown",
   "id": "20319489-b941-48c6-8cb3-f10f518de994",
   "metadata": {},
   "source": [
    " ##### What impact could such findings have?"
   ]
  },
  {
   "cell_type": "markdown",
   "id": "53678efb-8e15-4a3b-828c-3384f94d200c",
   "metadata": {},
   "source": []
  },
  {
   "cell_type": "markdown",
   "id": "e3841ac0-2146-4c8d-a6ac-b4818667fe4f",
   "metadata": {},
   "source": [
    "##### What future questions could this lead to?"
   ]
  },
  {
   "cell_type": "markdown",
   "id": "bb6d173d-e6f1-42a5-9a3c-9be53b663c27",
   "metadata": {},
   "source": []
  },
  {
   "cell_type": "markdown",
   "id": "cb54c190-6ce2-407b-a6cd-3dc374b53cb1",
   "metadata": {},
   "source": [
    "# References"
   ]
  },
  {
   "cell_type": "markdown",
   "id": "c5f4eaee-f152-4189-9763-8abdf4e019e5",
   "metadata": {},
   "source": [
    "At least two citations of literature relevant to the project. The citation format is your choice – just be consistent. Make sure to cite the source of your data as well."
   ]
  },
  {
   "cell_type": "markdown",
   "id": "c71414ff-c9fe-436f-87ee-a95ea65379eb",
   "metadata": {},
   "source": [
    "- 1\n",
    "- 2\n"
   ]
  },
  {
   "cell_type": "code",
   "execution_count": null,
   "id": "0e59b0f8-0dea-4ee4-9ebd-94cee3c87900",
   "metadata": {},
   "outputs": [],
   "source": []
  }
 ],
 "metadata": {
  "kernelspec": {
   "display_name": "R",
   "language": "R",
   "name": "ir"
  },
  "language_info": {
   "codemirror_mode": "r",
   "file_extension": ".r",
   "mimetype": "text/x-r-source",
   "name": "R",
   "pygments_lexer": "r",
   "version": "4.2.2"
  }
 },
 "nbformat": 4,
 "nbformat_minor": 5
}
