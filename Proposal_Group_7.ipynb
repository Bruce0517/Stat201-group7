{
 "cells": [
  {
   "cell_type": "code",
   "execution_count": 1,
   "id": "1e993a5f-ae9d-44b3-a5ea-ec820cb578a7",
   "metadata": {},
   "outputs": [
    {
     "name": "stderr",
     "output_type": "stream",
     "text": [
      "\n",
      "Attaching package: ‘dplyr’\n",
      "\n",
      "\n",
      "The following objects are masked from ‘package:stats’:\n",
      "\n",
      "    filter, lag\n",
      "\n",
      "\n",
      "The following objects are masked from ‘package:base’:\n",
      "\n",
      "    intersect, setdiff, setequal, union\n",
      "\n",
      "\n",
      "\n",
      "Attaching package: ‘gridExtra’\n",
      "\n",
      "\n",
      "The following object is masked from ‘package:dplyr’:\n",
      "\n",
      "    combine\n",
      "\n",
      "\n",
      "Warning message in system(\"timedatectl\", intern = TRUE):\n",
      "“running command 'timedatectl' had status 1”\n",
      "── \u001b[1mAttaching packages\u001b[22m ─────────────────────────────────────── tidyverse 1.3.2 ──\n",
      "\u001b[32m✔\u001b[39m \u001b[34mggplot2\u001b[39m 3.4.0     \u001b[32m✔\u001b[39m \u001b[34mpurrr  \u001b[39m 1.0.0\n",
      "\u001b[32m✔\u001b[39m \u001b[34mtibble \u001b[39m 3.1.8     \u001b[32m✔\u001b[39m \u001b[34mstringr\u001b[39m 1.5.0\n",
      "\u001b[32m✔\u001b[39m \u001b[34mtidyr  \u001b[39m 1.2.1     \u001b[32m✔\u001b[39m \u001b[34mforcats\u001b[39m 0.5.2\n",
      "\u001b[32m✔\u001b[39m \u001b[34mreadr  \u001b[39m 2.1.3     \n",
      "── \u001b[1mConflicts\u001b[22m ────────────────────────────────────────── tidyverse_conflicts() ──\n",
      "\u001b[31m✖\u001b[39m \u001b[34mgridExtra\u001b[39m::\u001b[32mcombine()\u001b[39m masks \u001b[34mdplyr\u001b[39m::combine()\n",
      "\u001b[31m✖\u001b[39m \u001b[34mdplyr\u001b[39m::\u001b[32mfilter()\u001b[39m      masks \u001b[34mstats\u001b[39m::filter()\n",
      "\u001b[31m✖\u001b[39m \u001b[34mdplyr\u001b[39m::\u001b[32mlag()\u001b[39m         masks \u001b[34mstats\u001b[39m::lag()\n"
     ]
    },
    {
     "ename": "ERROR",
     "evalue": "Error in library(infer): there is no package called ‘infer’\n",
     "output_type": "error",
     "traceback": [
      "Error in library(infer): there is no package called ‘infer’\nTraceback:\n",
      "1. library(infer)"
     ]
    }
   ],
   "source": [
    "### Run this cell before continuing.\n",
    "#library(cowplot)\n",
    "library(dplyr)\n",
    "library(gridExtra)\n",
    "library(tidyverse)\n",
    "library(repr)\n",
    "library(infer)\n",
    "library(repr)\n",
    "library(datateachr)\n",
    "library(digest)\n",
    "library(lubridate)\n",
    "library(taxyvr)\n",
    "library(broom)\n",
    "library(testthat)\n",
    "    "
   ]
  },
  {
   "cell_type": "markdown",
   "id": "7c5a4231-8d8c-40d9-bc2e-3247d3d0b6bc",
   "metadata": {},
   "source": [
    "*STAT 201 - GROUP 7*"
   ]
  },
  {
   "cell_type": "markdown",
   "id": "893401f3-7ee0-4644-9f10-dc688e648ccd",
   "metadata": {},
   "source": [
    "# Comparing Car Theft in Vancouver, BC. (rough title)"
   ]
  },
  {
   "cell_type": "markdown",
   "id": "089bcc6a-e345-41b3-8521-ca8583d030c4",
   "metadata": {},
   "source": [
    "Analysis by Soham Chakote, Lisa Desjarlais, Kiersten Lyde-Stad, Hongli Zhang"
   ]
  },
  {
   "cell_type": "markdown",
   "id": "38fcf1f8-a446-4eb5-8861-d680a59b85e4",
   "metadata": {},
   "source": [
    "# Introduction"
   ]
  },
  {
   "cell_type": "markdown",
   "id": "a43898c7-8984-4360-8267-dc06c3a62cba",
   "metadata": {},
   "source": [
    "### Background"
   ]
  },
  {
   "cell_type": "markdown",
   "id": "38315bcc-0cab-4886-a7c5-49a6faef423d",
   "metadata": {},
   "source": []
  },
  {
   "cell_type": "markdown",
   "id": "c37dd116-4637-448f-96c1-efaf1eccd191",
   "metadata": {},
   "source": [
    "### Question"
   ]
  },
  {
   "cell_type": "markdown",
   "id": "45c65652-8480-4665-954a-f084f832eeeb",
   "metadata": {},
   "source": [
    "We ask \"concerning 2018 and 2022, is the proportion of thefts from vehicles in the Strathcona and Grandview-Woodland districts significantly higher than in the West End and Central Business districts of Vancouver, BC.?\""
   ]
  },
  {
   "cell_type": "markdown",
   "id": "08773d17-f394-4935-af7e-d5a17c701179",
   "metadata": {},
   "source": [
    "# Preliminary Results"
   ]
  },
  {
   "cell_type": "markdown",
   "id": "a320ac60-9fd9-4469-ac3b-b6f81d7dce3a",
   "metadata": {},
   "source": [
    "##### Read, Clean, & Wrangle"
   ]
  },
  {
   "cell_type": "code",
   "execution_count": 20,
   "id": "fb05e264-9b3b-4f7e-b3b3-fb07270d9658",
   "metadata": {},
   "outputs": [
    {
     "data": {
      "text/html": [
       "<table class=\"dataframe\">\n",
       "<caption>A tibble: 6 × 10</caption>\n",
       "<thead>\n",
       "\t<tr><th scope=col>TYPE</th><th scope=col>YEAR</th><th scope=col>MONTH</th><th scope=col>DAY</th><th scope=col>HOUR</th><th scope=col>MINUTE</th><th scope=col>HUNDRED_BLOCK</th><th scope=col>NEIGHBOURHOOD</th><th scope=col>X</th><th scope=col>Y</th></tr>\n",
       "\t<tr><th scope=col>&lt;chr&gt;</th><th scope=col>&lt;dbl&gt;</th><th scope=col>&lt;dbl&gt;</th><th scope=col>&lt;dbl&gt;</th><th scope=col>&lt;dbl&gt;</th><th scope=col>&lt;dbl&gt;</th><th scope=col>&lt;chr&gt;</th><th scope=col>&lt;chr&gt;</th><th scope=col>&lt;dbl&gt;</th><th scope=col>&lt;dbl&gt;</th></tr>\n",
       "</thead>\n",
       "<tbody>\n",
       "\t<tr><td>Theft from Vehicle</td><td>2018</td><td> 8</td><td>27</td><td>15</td><td>30</td><td>1X E CORDOVA ST </td><td>Central Business District</td><td>492441.8</td><td>5458858</td></tr>\n",
       "\t<tr><td>Theft from Vehicle</td><td>2018</td><td>11</td><td>27</td><td>17</td><td> 0</td><td>1X W HASTINGS ST</td><td>Central Business District</td><td>492375.3</td><td>5458758</td></tr>\n",
       "\t<tr><td>Theft from Vehicle</td><td>2018</td><td> 2</td><td> 3</td><td>23</td><td> 0</td><td>1XX ABBOTT ST   </td><td>Central Business District</td><td>492271.3</td><td>5459048</td></tr>\n",
       "\t<tr><td>Theft from Vehicle</td><td>2018</td><td> 7</td><td>23</td><td>14</td><td> 0</td><td>1XX ABBOTT ST   </td><td>Central Business District</td><td>492271.3</td><td>5459048</td></tr>\n",
       "\t<tr><td>Theft from Vehicle</td><td>2018</td><td> 1</td><td> 8</td><td>23</td><td>48</td><td>1XX ABBOTT ST   </td><td>Central Business District</td><td>492274.3</td><td>5459062</td></tr>\n",
       "\t<tr><td>Theft from Vehicle</td><td>2018</td><td> 1</td><td>19</td><td>23</td><td> 0</td><td>1XX ABBOTT ST   </td><td>Central Business District</td><td>492274.3</td><td>5459062</td></tr>\n",
       "</tbody>\n",
       "</table>\n"
      ],
      "text/latex": [
       "A tibble: 6 × 10\n",
       "\\begin{tabular}{llllllllll}\n",
       " TYPE & YEAR & MONTH & DAY & HOUR & MINUTE & HUNDRED\\_BLOCK & NEIGHBOURHOOD & X & Y\\\\\n",
       " <chr> & <dbl> & <dbl> & <dbl> & <dbl> & <dbl> & <chr> & <chr> & <dbl> & <dbl>\\\\\n",
       "\\hline\n",
       "\t Theft from Vehicle & 2018 &  8 & 27 & 15 & 30 & 1X E CORDOVA ST  & Central Business District & 492441.8 & 5458858\\\\\n",
       "\t Theft from Vehicle & 2018 & 11 & 27 & 17 &  0 & 1X W HASTINGS ST & Central Business District & 492375.3 & 5458758\\\\\n",
       "\t Theft from Vehicle & 2018 &  2 &  3 & 23 &  0 & 1XX ABBOTT ST    & Central Business District & 492271.3 & 5459048\\\\\n",
       "\t Theft from Vehicle & 2018 &  7 & 23 & 14 &  0 & 1XX ABBOTT ST    & Central Business District & 492271.3 & 5459048\\\\\n",
       "\t Theft from Vehicle & 2018 &  1 &  8 & 23 & 48 & 1XX ABBOTT ST    & Central Business District & 492274.3 & 5459062\\\\\n",
       "\t Theft from Vehicle & 2018 &  1 & 19 & 23 &  0 & 1XX ABBOTT ST    & Central Business District & 492274.3 & 5459062\\\\\n",
       "\\end{tabular}\n"
      ],
      "text/markdown": [
       "\n",
       "A tibble: 6 × 10\n",
       "\n",
       "| TYPE &lt;chr&gt; | YEAR &lt;dbl&gt; | MONTH &lt;dbl&gt; | DAY &lt;dbl&gt; | HOUR &lt;dbl&gt; | MINUTE &lt;dbl&gt; | HUNDRED_BLOCK &lt;chr&gt; | NEIGHBOURHOOD &lt;chr&gt; | X &lt;dbl&gt; | Y &lt;dbl&gt; |\n",
       "|---|---|---|---|---|---|---|---|---|---|\n",
       "| Theft from Vehicle | 2018 |  8 | 27 | 15 | 30 | 1X E CORDOVA ST  | Central Business District | 492441.8 | 5458858 |\n",
       "| Theft from Vehicle | 2018 | 11 | 27 | 17 |  0 | 1X W HASTINGS ST | Central Business District | 492375.3 | 5458758 |\n",
       "| Theft from Vehicle | 2018 |  2 |  3 | 23 |  0 | 1XX ABBOTT ST    | Central Business District | 492271.3 | 5459048 |\n",
       "| Theft from Vehicle | 2018 |  7 | 23 | 14 |  0 | 1XX ABBOTT ST    | Central Business District | 492271.3 | 5459048 |\n",
       "| Theft from Vehicle | 2018 |  1 |  8 | 23 | 48 | 1XX ABBOTT ST    | Central Business District | 492274.3 | 5459062 |\n",
       "| Theft from Vehicle | 2018 |  1 | 19 | 23 |  0 | 1XX ABBOTT ST    | Central Business District | 492274.3 | 5459062 |\n",
       "\n"
      ],
      "text/plain": [
       "  TYPE               YEAR MONTH DAY HOUR MINUTE HUNDRED_BLOCK   \n",
       "1 Theft from Vehicle 2018  8    27  15   30     1X E CORDOVA ST \n",
       "2 Theft from Vehicle 2018 11    27  17    0     1X W HASTINGS ST\n",
       "3 Theft from Vehicle 2018  2     3  23    0     1XX ABBOTT ST   \n",
       "4 Theft from Vehicle 2018  7    23  14    0     1XX ABBOTT ST   \n",
       "5 Theft from Vehicle 2018  1     8  23   48     1XX ABBOTT ST   \n",
       "6 Theft from Vehicle 2018  1    19  23    0     1XX ABBOTT ST   \n",
       "  NEIGHBOURHOOD             X        Y      \n",
       "1 Central Business District 492441.8 5458858\n",
       "2 Central Business District 492375.3 5458758\n",
       "3 Central Business District 492271.3 5459048\n",
       "4 Central Business District 492271.3 5459048\n",
       "5 Central Business District 492274.3 5459062\n",
       "6 Central Business District 492274.3 5459062"
      ]
     },
     "metadata": {},
     "output_type": "display_data"
    }
   ],
   "source": [
    "#Read and Combine CSVS (code from https://statisticsglobe.com/merge-csv-files-in-r)\n",
    "crime <- list.files(path = \"data/\", \n",
    "                       pattern = \"*.csv\", full.names = TRUE) %>% \n",
    "  lapply(read_csv, show_col_types=FALSE) %>%      #Quieted messages                      \n",
    "  bind_rows      \n",
    "head(crime)"
   ]
  },
  {
   "cell_type": "markdown",
   "id": "67416ecc-8cbe-40e3-a00a-a5afede4b098",
   "metadata": {},
   "source": [
    "##### Plot(s)"
   ]
  },
  {
   "cell_type": "code",
   "execution_count": 83,
   "id": "2c32cd46-6210-4e52-a1e4-14cc1fdbc90c",
   "metadata": {},
   "outputs": [
    {
     "data": {
      "text/html": [
       "<table class=\"dataframe\">\n",
       "<caption>A tibble: 4 × 4</caption>\n",
       "<thead>\n",
       "\t<tr><th scope=col>NEIGHBOURHOOD</th><th scope=col>n_all_crime</th><th scope=col>n_thefts</th><th scope=col>prop</th></tr>\n",
       "\t<tr><th scope=col>&lt;chr&gt;</th><th scope=col>&lt;int&gt;</th><th scope=col>&lt;int&gt;</th><th scope=col>&lt;dbl&gt;</th></tr>\n",
       "</thead>\n",
       "<tbody>\n",
       "\t<tr><td>Central Business District</td><td>60377</td><td>18899</td><td>0.3130165</td></tr>\n",
       "\t<tr><td>Grandview-Woodland       </td><td> 9583</td><td> 2451</td><td>0.2557654</td></tr>\n",
       "\t<tr><td>Strathcona               </td><td>14576</td><td> 3304</td><td>0.2266740</td></tr>\n",
       "\t<tr><td>West End                 </td><td>16932</td><td> 5341</td><td>0.3154382</td></tr>\n",
       "</tbody>\n",
       "</table>\n"
      ],
      "text/latex": [
       "A tibble: 4 × 4\n",
       "\\begin{tabular}{llll}\n",
       " NEIGHBOURHOOD & n\\_all\\_crime & n\\_thefts & prop\\\\\n",
       " <chr> & <int> & <int> & <dbl>\\\\\n",
       "\\hline\n",
       "\t Central Business District & 60377 & 18899 & 0.3130165\\\\\n",
       "\t Grandview-Woodland        &  9583 &  2451 & 0.2557654\\\\\n",
       "\t Strathcona                & 14576 &  3304 & 0.2266740\\\\\n",
       "\t West End                  & 16932 &  5341 & 0.3154382\\\\\n",
       "\\end{tabular}\n"
      ],
      "text/markdown": [
       "\n",
       "A tibble: 4 × 4\n",
       "\n",
       "| NEIGHBOURHOOD &lt;chr&gt; | n_all_crime &lt;int&gt; | n_thefts &lt;int&gt; | prop &lt;dbl&gt; |\n",
       "|---|---|---|---|\n",
       "| Central Business District | 60377 | 18899 | 0.3130165 |\n",
       "| Grandview-Woodland        |  9583 |  2451 | 0.2557654 |\n",
       "| Strathcona                | 14576 |  3304 | 0.2266740 |\n",
       "| West End                  | 16932 |  5341 | 0.3154382 |\n",
       "\n"
      ],
      "text/plain": [
       "  NEIGHBOURHOOD             n_all_crime n_thefts prop     \n",
       "1 Central Business District 60377       18899    0.3130165\n",
       "2 Grandview-Woodland         9583        2451    0.2557654\n",
       "3 Strathcona                14576        3304    0.2266740\n",
       "4 West End                  16932        5341    0.3154382"
      ]
     },
     "metadata": {},
     "output_type": "display_data"
    },
    {
     "data": {
      "text/html": [
       "<table class=\"dataframe\">\n",
       "<caption>A tibble: 4 × 3</caption>\n",
       "<thead>\n",
       "\t<tr><th scope=col>NEIGHBOURHOOD</th><th scope=col>n</th><th scope=col>mean_theft</th></tr>\n",
       "\t<tr><th scope=col>&lt;chr&gt;</th><th scope=col>&lt;int&gt;</th><th scope=col>&lt;dbl&gt;</th></tr>\n",
       "</thead>\n",
       "<tbody>\n",
       "\t<tr><td>Central Business District</td><td>18899</td><td>4724.75</td></tr>\n",
       "\t<tr><td>Grandview-Woodland       </td><td> 2451</td><td> 612.75</td></tr>\n",
       "\t<tr><td>Strathcona               </td><td> 3304</td><td> 826.00</td></tr>\n",
       "\t<tr><td>West End                 </td><td> 5341</td><td>1335.25</td></tr>\n",
       "</tbody>\n",
       "</table>\n"
      ],
      "text/latex": [
       "A tibble: 4 × 3\n",
       "\\begin{tabular}{lll}\n",
       " NEIGHBOURHOOD & n & mean\\_theft\\\\\n",
       " <chr> & <int> & <dbl>\\\\\n",
       "\\hline\n",
       "\t Central Business District & 18899 & 4724.75\\\\\n",
       "\t Grandview-Woodland        &  2451 &  612.75\\\\\n",
       "\t Strathcona                &  3304 &  826.00\\\\\n",
       "\t West End                  &  5341 & 1335.25\\\\\n",
       "\\end{tabular}\n"
      ],
      "text/markdown": [
       "\n",
       "A tibble: 4 × 3\n",
       "\n",
       "| NEIGHBOURHOOD &lt;chr&gt; | n &lt;int&gt; | mean_theft &lt;dbl&gt; |\n",
       "|---|---|---|\n",
       "| Central Business District | 18899 | 4724.75 |\n",
       "| Grandview-Woodland        |  2451 |  612.75 |\n",
       "| Strathcona                |  3304 |  826.00 |\n",
       "| West End                  |  5341 | 1335.25 |\n",
       "\n"
      ],
      "text/plain": [
       "  NEIGHBOURHOOD             n     mean_theft\n",
       "1 Central Business District 18899 4724.75   \n",
       "2 Grandview-Woodland         2451  612.75   \n",
       "3 Strathcona                 3304  826.00   \n",
       "4 West End                   5341 1335.25   "
      ]
     },
     "metadata": {},
     "output_type": "display_data"
    }
   ],
   "source": [
    "crime2s <- crime |>\n",
    "    select(TYPE, YEAR, NEIGHBOURHOOD)\n",
    "crime_theft_prop <- crime2s |>\n",
    "    group_by(NEIGHBOURHOOD) |>\n",
    "    summarize(n_all_crime = n(),\n",
    "              n_thefts = sum(TYPE == \"Theft from Vehicle\"),\n",
    "              prop = n_thefts / n_all_crime)\n",
    "crime_theft_prop\n",
    "              \n",
    "crime_theft_ave <- crime2s |>\n",
    "    filter(TYPE == \"Theft from Vehicle\") |>\n",
    "    group_by(NEIGHBOURHOOD) |>\n",
    "    summarize(n = n(),\n",
    "              mean_theft = n / 4)\n",
    "crime_theft_ave\n"
   ]
  },
  {
   "cell_type": "code",
   "execution_count": 98,
   "id": "84ea7325-56c9-4f4c-848c-8bf3e0bc42cf",
   "metadata": {},
   "outputs": [
    {
     "data": {
      "image/png": "[encoded data removed]",
      "text/plain": [
       "plot without title"
      ]
     },
     "metadata": {
      "image/png": {
       "height": 420,
       "width": 420
      }
     },
     "output_type": "display_data"
    }
   ],
   "source": [
    "prop_theft_plot <- crime_theft_prop |>\n",
    "    ggplot(aes(x = NEIGHBOURHOOD, y = prop)) +\n",
    "    geom_bar(stat = \"identity\")\n",
    "prop_theft_plot"
   ]
  },
  {
   "cell_type": "code",
   "execution_count": 99,
   "id": "fcbd6070-9d58-4482-b6be-fbb679cf5b69",
   "metadata": {},
   "outputs": [
    {
     "data": {
      "image/png": "[encoded data removed]",
      "text/plain": [
       "plot without title"
      ]
     },
     "metadata": {
      "image/png": {
       "height": 420,
       "width": 420
      }
     },
     "output_type": "display_data"
    }
   ],
   "source": [
    "mean_theft_plot <- crime_theft_ave |>\n",
    "    ggplot(aes(x = NEIGHBOURHOOD, y = mean_theft)) +\n",
    "    geom_bar(stat = \"identity\")\n",
    "prop_theft_plot"
   ]
  },
  {
   "cell_type": "code",
   "execution_count": 43,
   "id": "e052333f-c20c-416d-897f-28a8571b3221",
   "metadata": {},
   "outputs": [
    {
     "data": {
      "text/html": [
       "6.5322855197458"
      ],
      "text/latex": [
       "6.5322855197458"
      ],
      "text/markdown": [
       "6.5322855197458"
      ],
      "text/plain": [
       "[1] 6.532286"
      ]
     },
     "metadata": {},
     "output_type": "display_data"
    },
    {
     "name": "stdout",
     "output_type": "stream",
     "text": [
      "Number of 'Theft from Vehicle' crimes: 29995"
     ]
    },
    {
     "data": {
      "text/html": [
       "<table class=\"dataframe\">\n",
       "<caption>A tibble: 4 × 2</caption>\n",
       "<thead>\n",
       "\t<tr><th scope=col>NEIGHBOURHOOD</th><th scope=col>count</th></tr>\n",
       "\t<tr><th scope=col>&lt;chr&gt;</th><th scope=col>&lt;int&gt;</th></tr>\n",
       "</thead>\n",
       "<tbody>\n",
       "\t<tr><td>Central Business District</td><td>18899</td></tr>\n",
       "\t<tr><td>Grandview-Woodland       </td><td> 2451</td></tr>\n",
       "\t<tr><td>Strathcona               </td><td> 3304</td></tr>\n",
       "\t<tr><td>West End                 </td><td> 5341</td></tr>\n",
       "</tbody>\n",
       "</table>\n"
      ],
      "text/latex": [
       "A tibble: 4 × 2\n",
       "\\begin{tabular}{ll}\n",
       " NEIGHBOURHOOD & count\\\\\n",
       " <chr> & <int>\\\\\n",
       "\\hline\n",
       "\t Central Business District & 18899\\\\\n",
       "\t Grandview-Woodland        &  2451\\\\\n",
       "\t Strathcona                &  3304\\\\\n",
       "\t West End                  &  5341\\\\\n",
       "\\end{tabular}\n"
      ],
      "text/markdown": [
       "\n",
       "A tibble: 4 × 2\n",
       "\n",
       "| NEIGHBOURHOOD &lt;chr&gt; | count &lt;int&gt; |\n",
       "|---|---|\n",
       "| Central Business District | 18899 |\n",
       "| Grandview-Woodland        |  2451 |\n",
       "| Strathcona                |  3304 |\n",
       "| West End                  |  5341 |\n",
       "\n"
      ],
      "text/plain": [
       "  NEIGHBOURHOOD             count\n",
       "1 Central Business District 18899\n",
       "2 Grandview-Woodland         2451\n",
       "3 Strathcona                 3304\n",
       "4 West End                   5341"
      ]
     },
     "metadata": {},
     "output_type": "display_data"
    },
    {
     "name": "stderr",
     "output_type": "stream",
     "text": [
      "ERROR while rich displaying an object: \u001b[1m\u001b[33mError\u001b[39m in `geom_histogram()`:\u001b[22m\n",
      "\u001b[1m\u001b[22m\u001b[33m!\u001b[39m Problem while computing stat.\n",
      "\u001b[36mℹ\u001b[39m Error occurred in the 1st layer.\n",
      "\u001b[1mCaused by error in `setup_params()`:\u001b[22m\n",
      "\u001b[1m\u001b[22m\u001b[33m!\u001b[39m `stat_bin()` requires a continuous \u001b[32mx\u001b[39m aesthetic\n",
      "\u001b[31m✖\u001b[39m the \u001b[32mx\u001b[39m aesthetic is discrete.\n",
      "\u001b[36mℹ\u001b[39m Perhaps you want `stat=\"count\"`?\n",
      "\n",
      "Traceback:\n",
      "1. tryCatch(withCallingHandlers({\n",
      " .     if (!mime %in% names(repr::mime2repr)) \n",
      " .         stop(\"No repr_* for mimetype \", mime, \" in repr::mime2repr\")\n",
      " .     rpr <- repr::mime2repr[[mime]](obj)\n",
      " .     if (is.null(rpr)) \n",
      " .         return(NULL)\n",
      " .     prepare_content(is.raw(rpr), rpr)\n",
      " . }, error = error_handler), error = outer_handler)\n",
      "2. tryCatchList(expr, classes, parentenv, handlers)\n",
      "3. tryCatchOne(expr, names, parentenv, handlers[[1L]])\n",
      "4. doTryCatch(return(expr), name, parentenv, handler)\n",
      "5. withCallingHandlers({\n",
      " .     if (!mime %in% names(repr::mime2repr)) \n",
      " .         stop(\"No repr_* for mimetype \", mime, \" in repr::mime2repr\")\n",
      " .     rpr <- repr::mime2repr[[mime]](obj)\n",
      " .     if (is.null(rpr)) \n",
      " .         return(NULL)\n",
      " .     prepare_content(is.raw(rpr), rpr)\n",
      " . }, error = error_handler)\n",
      "6. repr::mime2repr[[mime]](obj)\n",
      "7. repr_text.default(obj)\n",
      "8. paste(capture.output(print(obj)), collapse = \"\\n\")\n",
      "9. capture.output(print(obj))\n",
      "10. withVisible(...elt(i))\n",
      "11. print(obj)\n",
      "12. print.ggplot(obj)\n",
      "13. ggplot_build(x)\n",
      "14. ggplot_build.ggplot(x)\n",
      "15. by_layer(function(l, d) l$compute_statistic(d, layout), layers, \n",
      "  .     data, \"computing stat\")\n",
      "16. try_fetch(for (i in seq_along(data)) {\n",
      "  .     out[[i]] <- f(l = layers[[i]], d = data[[i]])\n",
      "  . }, error = function(cnd) {\n",
      "  .     cli::cli_abort(c(\"Problem while {step}.\", i = \"Error occurred in the {ordinal(i)} layer.\"), \n",
      "  .         call = layers[[i]]$constructor, parent = cnd)\n",
      "  . })\n",
      "17. tryCatch(withCallingHandlers(expr, error = function(cnd) {\n",
      "  .     {\n",
      "  .         .__handler_frame__. <- TRUE\n",
      "  .         .__setup_frame__. <- frame\n",
      "  .     }\n",
      "  .     out <- handlers[[1L]](cnd)\n",
      "  .     if (!inherits(out, \"rlang_zap\")) \n",
      "  .         throw(out)\n",
      "  . }), stackOverflowError = handlers[[1L]])\n",
      "18. tryCatchList(expr, classes, parentenv, handlers)\n",
      "19. tryCatchOne(expr, names, parentenv, handlers[[1L]])\n",
      "20. doTryCatch(return(expr), name, parentenv, handler)\n",
      "21. withCallingHandlers(expr, error = function(cnd) {\n",
      "  .     {\n",
      "  .         .__handler_frame__. <- TRUE\n",
      "  .         .__setup_frame__. <- frame\n",
      "  .     }\n",
      "  .     out <- handlers[[1L]](cnd)\n",
      "  .     if (!inherits(out, \"rlang_zap\")) \n",
      "  .         throw(out)\n",
      "  . })\n",
      "22. f(l = layers[[i]], d = data[[i]])\n",
      "23. l$compute_statistic(d, layout)\n",
      "24. compute_statistic(..., self = self)\n",
      "25. self$stat$setup_params(data, self$stat_params)\n",
      "26. setup_params(..., self = self)\n",
      "27. cli::cli_abort(c(\"{.fn {snake_class(self)}} requires a continuous {.field {x}} aesthetic\", \n",
      "  .     x = \"the {.field {x}} aesthetic is discrete.\", i = \"Perhaps you want {.code stat=\\\"count\\\"}?\"))\n",
      "28. rlang::abort(message, ..., call = call, use_cli_format = TRUE, \n",
      "  .     .frame = .frame)\n",
      "29. signal_abort(cnd, .file)\n",
      "30. signalCondition(cnd)\n",
      "31. (function (cnd) \n",
      "  . {\n",
      "  .     {\n",
      "  .         .__handler_frame__. <- TRUE\n",
      "  .         .__setup_frame__. <- frame\n",
      "  .     }\n",
      "  .     out <- handlers[[1L]](cnd)\n",
      "  .     if (!inherits(out, \"rlang_zap\")) \n",
      "  .         throw(out)\n",
      "  . })(structure(list(message = structure(\"`stat_bin()` requires a continuous \\033[32mx\\033[39m aesthetic\", names = \"\"), \n",
      "  .     trace = structure(list(call = list(IRkernel::main(), kernel$run(), \n",
      "  .         handle_shell(), executor$execute(msg), tryCatch(evaluate(request$content$code, \n",
      "  .             envir = .GlobalEnv, output_handler = oh, stop_on_error = 1L), \n",
      "  .             interrupt = function(cond) {\n",
      "  .                 log_debug(\"Interrupt during execution\")\n",
      "  .                 interrupted <<- TRUE\n",
      "  .             }, error = .self$handle_error), tryCatchList(expr, \n",
      "  .             classes, parentenv, handlers), tryCatchOne(tryCatchList(expr, \n",
      "  .             names[-nh], parentenv, handlers[-nh]), names[nh], \n",
      "  .             parentenv, handlers[[nh]]), doTryCatch(return(expr), \n",
      "  .             name, parentenv, handler), tryCatchList(expr, names[-nh], \n",
      "  .             parentenv, handlers[-nh]), tryCatchOne(expr, names, \n",
      "  .             parentenv, handlers[[1L]]), doTryCatch(return(expr), \n",
      "  .             name, parentenv, handler), evaluate(request$content$code, \n",
      "  .             envir = .GlobalEnv, output_handler = oh, stop_on_error = 1L), \n",
      "  .         evaluate_call(expr, parsed$src[[i]], envir = envir, enclos = enclos, \n",
      "  .             debug = debug, last = i == length(out), use_try = stop_on_error != \n",
      "  .                 2L, keep_warning = keep_warning, keep_message = keep_message, \n",
      "  .             output_handler = output_handler, include_timing = include_timing), \n",
      "  .         handle(pv <- withCallingHandlers(withVisible(value_fun(ev$value, \n",
      "  .             ev$visible)), warning = wHandler, error = eHandler, \n",
      "  .             message = mHandler)), try(f, silent = TRUE), tryCatch(expr, \n",
      "  .             error = function(e) {\n",
      "  .                 call <- conditionCall(e)\n",
      "  .                 if (!is.null(call)) {\n",
      "  .                   if (identical(call[[1L]], quote(doTryCatch))) \n",
      "  .                     call <- sys.call(-4L)\n",
      "  .                   dcall <- deparse(call, nlines = 1L)\n",
      "  .                   prefix <- paste(\"Error in\", dcall, \": \")\n",
      "  .                   LONG <- 75L\n",
      "  .                   sm <- strsplit(conditionMessage(e), \"\\n\")[[1L]]\n",
      "  .                   w <- 14L + nchar(dcall, type = \"w\") + nchar(sm[1L], \n",
      "  .                     type = \"w\")\n",
      "  .                   if (is.na(w)) \n",
      "  .                     w <- 14L + nchar(dcall, type = \"b\") + nchar(sm[1L], \n",
      "  .                       type = \"b\")\n",
      "  .                   if (w > LONG) \n",
      "  .                     prefix <- paste0(prefix, \"\\n  \")\n",
      "  .                 }\n",
      "  .                 else prefix <- \"Error : \"\n",
      "  .                 msg <- paste0(prefix, conditionMessage(e), \"\\n\")\n",
      "  .                 .Internal(seterrmessage(msg[1L]))\n",
      "  .                 if (!silent && isTRUE(getOption(\"show.error.messages\"))) {\n",
      "  .                   cat(msg, file = outFile)\n",
      "  .                   .Internal(printDeferredWarnings())\n",
      "  .                 }\n",
      "  .                 invisible(structure(msg, class = \"try-error\", \n",
      "  .                   condition = e))\n",
      "  .             }), tryCatchList(expr, classes, parentenv, handlers), \n",
      "  .         tryCatchOne(expr, names, parentenv, handlers[[1L]]), \n",
      "  .         doTryCatch(return(expr), name, parentenv, handler), withCallingHandlers(withVisible(value_fun(ev$value, \n",
      "  .             ev$visible)), warning = wHandler, error = eHandler, \n",
      "  .             message = mHandler), withVisible(value_fun(ev$value, \n",
      "  .             ev$visible)), value_fun(ev$value, ev$visible), prepare_mimebundle_kernel(obj, \n",
      "  .             .self$handle_display_error), prepare_mimebundle(obj, \n",
      "  .             \"text/plain\", error_handler = handle_display_error), \n",
      "  .         filter_map(mimetypes, function(mime) {\n",
      "  .             tryCatch(withCallingHandlers({\n",
      "  .                 if (!mime %in% names(repr::mime2repr)) \n",
      "  .                   stop(\"No repr_* for mimetype \", mime, \" in repr::mime2repr\")\n",
      "  .                 rpr <- repr::mime2repr[[mime]](obj)\n",
      "  .                 if (is.null(rpr)) \n",
      "  .                   return(NULL)\n",
      "  .                 prepare_content(is.raw(rpr), rpr)\n",
      "  .             }, error = error_handler), error = outer_handler)\n",
      "  .         }), Filter(Negate(is.null), sapply(x, f, simplify = simplify)), \n",
      "  .         unlist(lapply(x, f)), lapply(x, f), sapply(x, f, simplify = simplify), \n",
      "  .         lapply(X = X, FUN = FUN, ...), FUN(X[[i]], ...), tryCatch(withCallingHandlers({\n",
      "  .             if (!mime %in% names(repr::mime2repr)) \n",
      "  .                 stop(\"No repr_* for mimetype \", mime, \" in repr::mime2repr\")\n",
      "  .             rpr <- repr::mime2repr[[mime]](obj)\n",
      "  .             if (is.null(rpr)) \n",
      "  .                 return(NULL)\n",
      "  .             prepare_content(is.raw(rpr), rpr)\n",
      "  .         }, error = error_handler), error = outer_handler), tryCatchList(expr, \n",
      "  .             classes, parentenv, handlers), tryCatchOne(expr, \n",
      "  .             names, parentenv, handlers[[1L]]), doTryCatch(return(expr), \n",
      "  .             name, parentenv, handler), withCallingHandlers({\n",
      "  .             if (!mime %in% names(repr::mime2repr)) \n",
      "  .                 stop(\"No repr_* for mimetype \", mime, \" in repr::mime2repr\")\n",
      "  .             rpr <- repr::mime2repr[[mime]](obj)\n",
      "  .             if (is.null(rpr)) \n",
      "  .                 return(NULL)\n",
      "  .             prepare_content(is.raw(rpr), rpr)\n",
      "  .         }, error = error_handler), repr::mime2repr[[mime]](obj), \n",
      "  .         repr_text.default(obj), paste(capture.output(print(obj)), \n",
      "  .             collapse = \"\\n\"), capture.output(print(obj)), withVisible(...elt(i)), \n",
      "  .         print(obj), print.ggplot(obj), ggplot_build(x), ggplot_build.ggplot(x), \n",
      "  .         by_layer(function(l, d) l$compute_statistic(d, layout), \n",
      "  .             layers, data, \"computing stat\"), try_fetch(for (i in seq_along(data)) {\n",
      "  .             out[[i]] <- f(l = layers[[i]], d = data[[i]])\n",
      "  .         }, error = function(cnd) {\n",
      "  .             cli::cli_abort(c(\"Problem while {step}.\", i = \"Error occurred in the {ordinal(i)} layer.\"), \n",
      "  .                 call = layers[[i]]$constructor, parent = cnd)\n",
      "  .         }), tryCatch(withCallingHandlers(expr, error = function(cnd) {\n",
      "  .             {\n",
      "  .                 .__handler_frame__. <- TRUE\n",
      "  .                 .__setup_frame__. <- frame\n",
      "  .             }\n",
      "  .             out <- handlers[[1L]](cnd)\n",
      "  .             if (!inherits(out, \"rlang_zap\")) \n",
      "  .                 throw(out)\n",
      "  .         }), stackOverflowError = handlers[[1L]]), tryCatchList(expr, \n",
      "  .             classes, parentenv, handlers), tryCatchOne(expr, \n",
      "  .             names, parentenv, handlers[[1L]]), doTryCatch(return(expr), \n",
      "  .             name, parentenv, handler), withCallingHandlers(expr, \n",
      "  .             error = function(cnd) {\n",
      "  .                 {\n",
      "  .                   .__handler_frame__. <- TRUE\n",
      "  .                   .__setup_frame__. <- frame\n",
      "  .                 }\n",
      "  .                 out <- handlers[[1L]](cnd)\n",
      "  .                 if (!inherits(out, \"rlang_zap\")) \n",
      "  .                   throw(out)\n",
      "  .             }), f(l = layers[[i]], d = data[[i]]), l$compute_statistic(d, \n",
      "  .             layout), compute_statistic(..., self = self), self$stat$setup_params(data, \n",
      "  .             self$stat_params), setup_params(..., self = self), \n",
      "  .         cli::cli_abort(c(\"{.fn {snake_class(self)}} requires a continuous {.field {x}} aesthetic\", \n",
      "  .             x = \"the {.field {x}} aesthetic is discrete.\", i = \"Perhaps you want {.code stat=\\\"count\\\"}?\")), \n",
      "  .         rlang::abort(message, ..., call = call, use_cli_format = TRUE, \n",
      "  .             .frame = .frame)), parent = c(0L, 1L, 2L, 3L, 4L, \n",
      "  .     5L, 6L, 7L, 6L, 9L, 10L, 4L, 12L, 13L, 14L, 15L, 16L, 17L, \n",
      "  .     18L, 13L, 13L, 13L, 22L, 23L, 24L, 25L, 26L, 26L, 25L, 29L, \n",
      "  .     30L, 31L, 32L, 33L, 34L, 31L, 31L, 31L, 38L, 38L, 40L, 38L, \n",
      "  .     38L, 43L, 43L, 45L, 46L, 47L, 48L, 49L, 50L, 47L, 46L, 53L, \n",
      "  .     54L, 55L, 56L, 57L, 58L), visible = c(TRUE, TRUE, TRUE, TRUE, \n",
      "  .     TRUE, TRUE, TRUE, TRUE, TRUE, TRUE, TRUE, TRUE, TRUE, TRUE, \n",
      "  .     TRUE, TRUE, TRUE, TRUE, TRUE, TRUE, TRUE, TRUE, TRUE, TRUE, \n",
      "  .     TRUE, TRUE, TRUE, TRUE, TRUE, TRUE, TRUE, TRUE, TRUE, TRUE, \n",
      "  .     TRUE, TRUE, TRUE, TRUE, TRUE, TRUE, TRUE, TRUE, TRUE, TRUE, \n",
      "  .     TRUE, TRUE, TRUE, TRUE, TRUE, TRUE, TRUE, TRUE, TRUE, TRUE, \n",
      "  .     TRUE, TRUE, TRUE, FALSE, FALSE), namespace = c(\"IRkernel\", \n",
      "  .     NA, \"IRkernel\", NA, \"base\", \"base\", \"base\", \"base\", \"base\", \n",
      "  .     \"base\", \"base\", \"evaluate\", \"evaluate\", \"evaluate\", \"base\", \n",
      "  .     \"base\", \"base\", \"base\", \"base\", \"base\", \"base\", \"IRkernel\", \n",
      "  .     \"IRkernel\", \"IRdisplay\", \"IRdisplay\", \"base\", \"base\", \"base\", \n",
      "  .     \"base\", \"base\", \"IRdisplay\", \"base\", \"base\", \"base\", \"base\", \n",
      "  .     \"base\", NA, \"repr\", \"base\", \"utils\", \"base\", \"base\", \"ggplot2\", \n",
      "  .     \"ggplot2\", \"ggplot2\", \"ggplot2\", \"rlang\", \"base\", \"base\", \n",
      "  .     \"base\", \"base\", \"base\", \"ggplot2\", NA, \"ggplot2\", NA, \"ggplot2\", \n",
      "  .     \"cli\", \"rlang\"), scope = c(\"::\", NA, \"local\", NA, \"::\", \"local\", \n",
      "  .     \"local\", \"local\", \"local\", \"local\", \"local\", \"::\", \":::\", \n",
      "  .     \"local\", \"::\", \"::\", \"local\", \"local\", \"local\", \"::\", \"::\", \n",
      "  .     \"local\", \":::\", \"::\", \":::\", \"::\", \"::\", \"::\", \"::\", \"::\", \n",
      "  .     \"local\", \"::\", \"local\", \"local\", \"local\", \"::\", NA, \":::\", \n",
      "  .     \"::\", \"::\", \"::\", \"::\", \":::\", \"::\", \":::\", \":::\", \"::\", \n",
      "  .     \"::\", \"local\", \"local\", \"local\", \"::\", \"local\", NA, \"local\", \n",
      "  .     NA, \"local\", \"::\", \"::\"), error_frame = c(FALSE, FALSE, FALSE, \n",
      "  .     FALSE, FALSE, FALSE, FALSE, FALSE, FALSE, FALSE, FALSE, FALSE, \n",
      "  .     FALSE, FALSE, FALSE, FALSE, FALSE, FALSE, FALSE, FALSE, FALSE, \n",
      "  .     FALSE, FALSE, FALSE, FALSE, FALSE, FALSE, FALSE, FALSE, FALSE, \n",
      "  .     FALSE, FALSE, FALSE, FALSE, FALSE, FALSE, FALSE, FALSE, FALSE, \n",
      "  .     FALSE, FALSE, FALSE, FALSE, FALSE, FALSE, FALSE, FALSE, FALSE, \n",
      "  .     FALSE, FALSE, FALSE, FALSE, FALSE, FALSE, FALSE, FALSE, TRUE, \n",
      "  .     FALSE, FALSE)), row.names = c(NA, -59L), version = 2L, class = c(\"rlang_trace\", \n",
      "  .     \"rlib_trace\", \"tbl\", \"data.frame\")), parent = NULL, body = c(x = \"the \\033[32mx\\033[39m aesthetic is discrete.\", \n",
      "  .     i = \"Perhaps you want `stat=\\\"count\\\"`?\"), call = setup_params(..., \n",
      "  .         self = self), use_cli_format = TRUE), class = c(\"rlang_error\", \n",
      "  . \"error\", \"condition\")))\n",
      "32. handlers[[1L]](cnd)\n",
      "33. cli::cli_abort(c(\"Problem while {step}.\", i = \"Error occurred in the {ordinal(i)} layer.\"), \n",
      "  .     call = layers[[i]]$constructor, parent = cnd)\n",
      "34. rlang::abort(message, ..., call = call, use_cli_format = TRUE, \n",
      "  .     .frame = .frame)\n",
      "35. signal_abort(cnd, .file)\n"
     ]
    }
   ],
   "source": [
    "# Filter the data for 2018 and 2022 and calculate the mean month\n",
    "crimes_year_2018 <- crime %>%\n",
    "  select(YEAR, MONTH) %>%\n",
    "  filter(YEAR == 2018)\n",
    "month_2018_mean <- mean(crimes_year_2018$MONTH)\n",
    "\n",
    "crimes_year_2022 <- crime %>%\n",
    "  select(YEAR, MONTH) %>%\n",
    "  filter(YEAR == 2022)\n",
    "\n",
    "average_month <- crimes_year_2022 %>%\n",
    "  summarize(avg_month = mean(MONTH))\n",
    "month_2022_mean <- average_month$avg_month\n",
    "month_2022_mean\n",
    "\n",
    "\n",
    "#First  focus on vehicle theft\n",
    "# Count the number of \"Theft from Vehicle\" crimes\n",
    "theft_from_vehicle_count <- crime %>%\n",
    " filter(TYPE == \"Theft from Vehicle\") %>%\n",
    " nrow()\n",
    "\n",
    "# Output the count\n",
    "cat(\"Number of 'Theft from Vehicle' crimes:\", theft_from_vehicle_count)\n",
    "\n",
    "\n",
    "theft_from_vehicle <- crime %>%\n",
    "  filter(TYPE == \"Theft from Vehicle\" &\n",
    "         NEIGHBOURHOOD %in% c(\"Strathcona\", \"Grandview-Woodland\", \"Central Business District\", \"West End\")) %>%\n",
    "  group_by(NEIGHBOURHOOD) %>%\n",
    "  summarize(count = n())\n",
    "\n",
    "theft_from_vehicle\n",
    "\n",
    "theft_from_vehicle_histogram <- theft_from_vehicle %>%\n",
    "    ggplot(aes(x = NEIGHBOURHOOD)) +\n",
    "    geom_histogram(bins = 0.5, fill = \"blue\", alpha = 0.5) +\n",
    "    labs(x = \"Neighbourhood\", y = \"Number of crimes\",\n",
    "       title = \"Histogram of Theft from Vehicle crimes in specified areas\")\n",
    "\n",
    "theft_from_vehicle_histogram\n",
    "\n"
   ]
  },
  {
   "cell_type": "code",
   "execution_count": 31,
   "id": "39f18e02-491e-489c-a42a-fd4dd742ee86",
   "metadata": {},
   "outputs": [],
   "source": [
    "crime_time <- crime %>%\n",
    "  unite(\"time\", c(\"HOUR\", \"MINUTE\"), sep = \"\", remove = FALSE) %>%\n",
    "  mutate(time_num = as.numeric(time)) %>%\n",
    "  select(-c(HOUR, MINUTE))\n"
   ]
  },
  {
   "cell_type": "code",
   "execution_count": 34,
   "id": "90848e4e-c3d7-4c61-a8bb-c5f9aa278346",
   "metadata": {},
   "outputs": [
    {
     "data": {
      "text/html": [
       "709.69950068089"
      ],
      "text/latex": [
       "709.69950068089"
      ],
      "text/markdown": [
       "709.69950068089"
      ],
      "text/plain": [
       "[1] 709.6995"
      ]
     },
     "metadata": {},
     "output_type": "display_data"
    }
   ],
   "source": [
    "# Filter for year 2022\n",
    "crimes_year_2022 <- crime_time %>%\n",
    "  filter(YEAR == 2022)\n",
    "\n",
    "# Calculate mean of time_num for year 2022\n",
    "mean_time_num_2022 <- crimes_year_2022 %>%\n",
    "  summarize(mean_time_num = mean(time_num))\n",
    "\n",
    "mean_time_num_2022$mean_time_num"
   ]
  },
  {
   "cell_type": "markdown",
   "id": "cb526276-90e2-436f-b44f-2f03db880ad6",
   "metadata": {},
   "source": [
    "##### Table of Estimates"
   ]
  },
  {
   "cell_type": "markdown",
   "id": "29222e47-4d86-4b77-af1d-68454a00b475",
   "metadata": {},
   "source": []
  },
  {
   "cell_type": "markdown",
   "id": "809db5b4-6207-4094-98ad-017c4b8fb7a4",
   "metadata": {},
   "source": [
    "# Methods: Plan"
   ]
  },
  {
   "cell_type": "markdown",
   "id": "69596664-0543-4957-adfb-ac69e367346f",
   "metadata": {},
   "source": [
    "(The previous sections will carry over to your final report (you’ll be allowed to improve them based on feedback you get). Begin this Methods section with a brief description of “the good things” about this report – specifically, in what ways is this report trustworthy?\n",
    "\n",
    "Continue by explaining why the plot(s) and estimates that you produced are not enough to give to a stakeholder, and what you should provide in addition to address this gap. Make sure your plans include at least one hypothesis test and one confidence interval. If possible, compare both the bootstrapping and asymptotics methods.)\n",
    "\n"
   ]
  },
  {
   "cell_type": "markdown",
   "id": "642c171d-a249-4560-8952-cbff3c1cdb1c",
   "metadata": {},
   "source": []
  },
  {
   "cell_type": "markdown",
   "id": "097c0f0c-8297-489b-99ed-ddabd9509dec",
   "metadata": {},
   "source": [
    "##### What do you expect to find?"
   ]
  },
  {
   "cell_type": "markdown",
   "id": "a9dffa30-f350-49c1-9e1c-be924fe4fabf",
   "metadata": {},
   "source": []
  },
  {
   "cell_type": "markdown",
   "id": "20319489-b941-48c6-8cb3-f10f518de994",
   "metadata": {},
   "source": [
    " ##### What impact could such findings have?"
   ]
  },
  {
   "cell_type": "markdown",
   "id": "53678efb-8e15-4a3b-828c-3384f94d200c",
   "metadata": {},
   "source": []
  },
  {
   "cell_type": "markdown",
   "id": "e3841ac0-2146-4c8d-a6ac-b4818667fe4f",
   "metadata": {},
   "source": [
    "##### What future questions could this lead to?"
   ]
  },
  {
   "cell_type": "markdown",
   "id": "bb6d173d-e6f1-42a5-9a3c-9be53b663c27",
   "metadata": {},
   "source": []
  },
  {
   "cell_type": "markdown",
   "id": "cb54c190-6ce2-407b-a6cd-3dc374b53cb1",
   "metadata": {},
   "source": [
    "# References"
   ]
  },
  {
   "cell_type": "markdown",
   "id": "c5f4eaee-f152-4189-9763-8abdf4e019e5",
   "metadata": {},
   "source": [
    "At least two citations of literature relevant to the project. The citation format is your choice – just be consistent. Make sure to cite the source of your data as well."
   ]
  },
  {
   "cell_type": "markdown",
   "id": "c71414ff-c9fe-436f-87ee-a95ea65379eb",
   "metadata": {},
   "source": [
    "- 1\n",
    "- 2\n"
   ]
  },
  {
   "cell_type": "code",
   "execution_count": null,
   "id": "0e59b0f8-0dea-4ee4-9ebd-94cee3c87900",
   "metadata": {},
   "outputs": [],
   "source": []
  }
 ],
 "metadata": {
  "kernelspec": {
   "display_name": "R",
   "language": "R",
   "name": "ir"
  },
  "language_info": {
   "codemirror_mode": "r",
   "file_extension": ".r",
   "mimetype": "text/x-r-source",
   "name": "R",
   "pygments_lexer": "r",
   "version": "4.2.2"
  }
 },
 "nbformat": 4,
 "nbformat_minor": 5
}
